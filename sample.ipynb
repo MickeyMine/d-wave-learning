{
 "cells": [
  {
   "cell_type": "code",
   "execution_count": 1,
   "metadata": {},
   "outputs": [],
   "source": [
    "from dimod import ConstrainedQuadraticModel, Integer\n"
   ]
  },
  {
   "cell_type": "code",
   "execution_count": 5,
   "metadata": {},
   "outputs": [],
   "source": [
    "i = Integer('i', upper_bound=4)\n",
    "j = Integer('j', upper_bound=4)"
   ]
  },
  {
   "cell_type": "code",
   "execution_count": 6,
   "metadata": {},
   "outputs": [
    {
     "data": {
      "text/plain": [
       "'Max perimeter'"
      ]
     },
     "execution_count": 6,
     "metadata": {},
     "output_type": "execute_result"
    }
   ],
   "source": [
    "cqm = ConstrainedQuadraticModel()\n",
    "cqm.set_objective(-i*j)\n",
    "cqm.add_constraint(2*i+2*j <= 8, \"Max perimeter\")"
   ]
  },
  {
   "cell_type": "code",
   "execution_count": 7,
   "metadata": {},
   "outputs": [
    {
     "name": "stdout",
     "output_type": "stream",
     "text": [
      "Sample(sample={'i': np.float64(4.0), 'j': np.float64(4.0)}, energy=np.float64(-16.0), num_occurrences=np.int64(1), is_satisfied=array([False]), is_feasible=np.False_)\n"
     ]
    }
   ],
   "source": [
    "from dwave.system import LeapHybridCQMSampler\n",
    "\n",
    "sampler = LeapHybridCQMSampler()\n",
    "sampleset = sampler.sample_cqm(cqm)\n",
    "\n",
    "print(sampleset.first)"
   ]
  }
 ],
 "metadata": {
  "kernelspec": {
   "display_name": "ocean",
   "language": "python",
   "name": "python3"
  },
  "language_info": {
   "codemirror_mode": {
    "name": "ipython",
    "version": 3
   },
   "file_extension": ".py",
   "mimetype": "text/x-python",
   "name": "python",
   "nbconvert_exporter": "python",
   "pygments_lexer": "ipython3",
   "version": "3.12.3"
  }
 },
 "nbformat": 4,
 "nbformat_minor": 2
}
